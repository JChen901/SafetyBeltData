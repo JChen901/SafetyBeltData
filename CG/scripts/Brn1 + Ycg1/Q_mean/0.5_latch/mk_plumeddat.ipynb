{
 "cells": [
  {
   "cell_type": "code",
   "execution_count": 1,
   "metadata": {},
   "outputs": [],
   "source": [
    "def read_content(file_path, start_row, end_row, start_column, end_column):\n",
    "    content = []\n",
    "    with open(file_path, 'r') as file:\n",
    "        lines = file.readlines()\n",
    "        for i in range(start_row-1, end_row):\n",
    "            row_content = lines[i].split()[start_column-1:end_column]\n",
    "            # 计算满足条件的元素数量\n",
    "            count_in_range = sum(849 <= int(element) <= 878 for element in row_content[:2])\n",
    "            # 修改条件判断，确保有且仅有一个元素在849和878之间\n",
    "            if count_in_range == 1:\n",
    "                # 转换科学记数法为浮点数\n",
    "                row_content = [float(element) if 'E' in element else element for element in row_content]\n",
    "                content.append(row_content)\n",
    "    return content\n",
    "\n",
    "#生成dat文件\n",
    "def generate_dat_file(pairscontent, plumed_dat, index):\n",
    "    with open(plumed_dat, 'w') as file:\n",
    "        file.write(\"cmap: CONTACTMAP ...\\n\")\n",
    "        for i in range(len(pairscontent)):\n",
    "            atoms = f\"{pairscontent[i][0]},{pairscontent[i][1]}\"  # 拼接原子信息\n",
    "            ref = pairscontent[i][3]  # 参考值\n",
    "            weight = 1/len(pairscontent)\n",
    "            switch = f\"{{Q R_0=0.01 BETA=50.0 LAMBDA=1.5 REF={ref}}}\"\n",
    "            line = f\"   ATOMS{i+1}={atoms} SWITCH{i+1}={switch} WEIGHT{i+1}={weight}\\n\"\n",
    "            file.write(line)\n",
    "        file.write(\"\\n   SUM\\n...\\n\\n\")\n",
    "        file.write(f\"PRINT ARG=cmap FILE=colvar{index}\\n\")\n",
    "\n",
    "# Inputfile\n",
    "itp_position=\"/hpc2hdd/home/jchen901/data/genesis/GENESIS_Tutorials-2022/Works/SMC_AICG2+/Kleisin_interaction_test/onlyPro_noDNAProGo_NOBC/1_setup/step3_output.itp\"\n",
    "\n",
    "# Exe_code\n",
    "for i in range(1, 11):      # 生成50个文件plumed.dat\n",
    "    pairscontent=read_content(itp_position, 5769, 10087,1,5)\n",
    "    plumed_dat=generate_dat_file(pairscontent, f\"plumed{i}.dat\", i)"
   ]
  }
 ],
 "metadata": {
  "kernelspec": {
   "display_name": "Python 3",
   "language": "python",
   "name": "python3"
  },
  "language_info": {
   "codemirror_mode": {
    "name": "ipython",
    "version": 3
   },
   "file_extension": ".py",
   "mimetype": "text/x-python",
   "name": "python",
   "nbconvert_exporter": "python",
   "pygments_lexer": "ipython3",
   "version": "3.8.10"
  }
 },
 "nbformat": 4,
 "nbformat_minor": 2
}
