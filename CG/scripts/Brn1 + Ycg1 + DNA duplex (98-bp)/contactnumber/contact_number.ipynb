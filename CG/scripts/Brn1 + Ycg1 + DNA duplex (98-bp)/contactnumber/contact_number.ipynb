{
 "cells": [
  {
   "cell_type": "code",
   "execution_count": 1,
   "metadata": {},
   "outputs": [],
   "source": [
    "for x in range(1, 51):\n",
    "    # 生成一个plumed.dat的文件\n",
    "    with open(f'plumed{x}.dat','w') as f:\n",
    "        f.write('UNITS LENGTH=A\\n')\n",
    "        f.write('dsDNA: GROUP ATOMS=991-1576\\n')\n",
    "        for i in range(849, 991):\n",
    "            f.write(f'a{i}: GROUP ATOMS={i}\\n')\n",
    "        for j in range(849, 991):\n",
    "            f.write(f'c{j}: COORDINATION GROUPA=dsDNA GROUPB=a{j} R_0=5.9 NOPBC\\n')\n",
    "        f.write(f'PRINT ARG=* FILE=cmap{x}')"
   ]
  }
 ],
 "metadata": {
  "kernelspec": {
   "display_name": "Python 3 (ipykernel)",
   "language": "python",
   "name": "python3"
  },
  "language_info": {
   "codemirror_mode": {
    "name": "ipython",
    "version": 3
   },
   "file_extension": ".py",
   "mimetype": "text/x-python",
   "name": "python",
   "nbconvert_exporter": "python",
   "pygments_lexer": "ipython3",
   "version": "3.10.13"
  }
 },
 "nbformat": 4,
 "nbformat_minor": 4
}
